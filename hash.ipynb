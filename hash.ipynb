{
 "cells": [
  {
   "cell_type": "markdown",
   "id": "30c00df6-2ca9-4a19-8a84-ed46d2a55868",
   "metadata": {},
   "source": [
    "## 해쉬\n",
    "> https://www.acmicpc.net/problem/15829"
   ]
  },
  {
   "cell_type": "code",
   "execution_count": 10,
   "id": "c14cdeeb-2d2c-43d6-8778-bcdd62cf4695",
   "metadata": {},
   "outputs": [
    {
     "name": "stdin",
     "output_type": "stream",
     "text": [
      " 5\n",
      " abcde\n"
     ]
    },
    {
     "name": "stdout",
     "output_type": "stream",
     "text": [
      "4739715\n"
     ]
    }
   ],
   "source": [
    "L = int(input())\n",
    "\n",
    "str_hash = input()\n",
    "answer   = 0\n",
    "r        = 31\n",
    "M        = 1234567891\n",
    "t        = 0\n",
    "for i in str_hash :\n",
    "    num = ord(i) - 96\n",
    "    answer += num * (r ** t) % M\n",
    "    t +=1\n",
    "print(answer)"
   ]
  },
  {
   "cell_type": "code",
   "execution_count": 8,
   "id": "cb8fdfca-959b-4031-98b2-2f33b4246473",
   "metadata": {},
   "outputs": [
    {
     "data": {
      "text/plain": [
       "4739715"
      ]
     },
     "execution_count": 8,
     "metadata": {},
     "output_type": "execute_result"
    }
   ],
   "source": [
    "answer"
   ]
  },
  {
   "cell_type": "code",
   "execution_count": null,
   "id": "0460678a-606b-481d-9de6-2a66c813918c",
   "metadata": {},
   "outputs": [],
   "source": []
  }
 ],
 "metadata": {
  "kernelspec": {
   "display_name": "Python 3 (ipykernel)",
   "language": "python",
   "name": "python3"
  },
  "language_info": {
   "codemirror_mode": {
    "name": "ipython",
    "version": 3
   },
   "file_extension": ".py",
   "mimetype": "text/x-python",
   "name": "python",
   "nbconvert_exporter": "python",
   "pygments_lexer": "ipython3",
   "version": "3.9.12"
  }
 },
 "nbformat": 4,
 "nbformat_minor": 5
}
